{
 "cells": [
  {
   "metadata": {
    "ExecuteTime": {
     "end_time": "2025-08-15T14:25:31.325966Z",
     "start_time": "2025-08-15T14:25:19.800234Z"
    }
   },
   "cell_type": "code",
   "source": [
    "from openai import OpenAI\n",
    "\n",
    "client = OpenAI()\n",
    "\n",
    "instructions = \"\"\"\n",
    "You are a personal math tutor. When asked a math question,\n",
    "write and run code using the python tool to answer the question.\n",
    "\"\"\"\n",
    "\n",
    "resp = client.responses.create(\n",
    "    model=\"gpt-4.1\",\n",
    "    tools=[\n",
    "        {\n",
    "            \"type\": \"code_interpreter\",\n",
    "            \"container\": {\"type\": \"auto\"}\n",
    "        }\n",
    "    ],\n",
    "    instructions=instructions,\n",
    "    input=\"I need to solve the equation 3x + 11 = 14. Can you help me?\",\n",
    ")\n",
    "\n",
    "print(resp.output)"
   ],
   "id": "88d00ba4628eb72a",
   "outputs": [
    {
     "name": "stdout",
     "output_type": "stream",
     "text": [
      "[ResponseCodeInterpreterToolCall(id='ci_689f43531d0881a28de194a84c6c6eae0277201352003a0f', code=\"from sympy import symbols, Eq, solve\\n\\n# Define the variable\\nx = symbols('x')\\n\\n# Define the equation\\nequation = Eq(3*x + 11, 14)\\n\\n# Solve the equation for x\\nsolution = solve(equation, x)\\nsolution\", container_id='cntr_689f43524a308191a616ffada2341fa804bed132fd7a114e', outputs=None, status='completed', type='code_interpreter_call'), ResponseOutputMessage(id='msg_689f4359ba9481a2aecba3e78aa705070277201352003a0f', content=[ResponseOutputText(annotations=[], text='The solution to the equation \\\\(3x + 11 = 14\\\\) is \\\\(x = 1\\\\).', type='output_text', logprobs=[])], role='assistant', status='completed', type='message')]\n"
     ]
    }
   ],
   "execution_count": 2
  },
  {
   "cell_type": "code",
   "id": "initial_id",
   "metadata": {
    "collapsed": true,
    "ExecuteTime": {
     "end_time": "2025-08-15T14:10:09.294951Z",
     "start_time": "2025-08-15T14:09:50.247363Z"
    }
   },
   "source": [
    "from openai import OpenAI\n",
    "client = OpenAI()\n",
    "\n",
    "container = client.containers.create(name=\"test-container\")\n",
    "\n",
    "response = client.responses.create(\n",
    "    model=\"gpt-4.1\",\n",
    "    tools=[{\n",
    "        \"type\": \"code_interpreter\",\n",
    "        \"container\": container.id\n",
    "    }],\n",
    "    tool_choice=\"required\",\n",
    "    input=\"use the python tool to calculate what is 4 * 3.82. and then find its square root and then find the square root of that result\"\n",
    ")\n",
    "\n",
    "print(response.output_text)"
   ],
   "outputs": [
    {
     "name": "stdout",
     "output_type": "stream",
     "text": [
      "Here are the results for your calculations:\n",
      "\n",
      "1. \\( 4 \\times 3.82 = 15.28 \\)\n",
      "2. The square root of \\( 15.28 \\) is approximately \\( 3.909 \\)\n",
      "3. The square root of \\( 3.909 \\) is approximately \\( 1.977 \\)\n"
     ]
    }
   ],
   "execution_count": 1
  }
 ],
 "metadata": {
  "kernelspec": {
   "display_name": "Python 3",
   "language": "python",
   "name": "python3"
  },
  "language_info": {
   "codemirror_mode": {
    "name": "ipython",
    "version": 2
   },
   "file_extension": ".py",
   "mimetype": "text/x-python",
   "name": "python",
   "nbconvert_exporter": "python",
   "pygments_lexer": "ipython2",
   "version": "2.7.6"
  }
 },
 "nbformat": 4,
 "nbformat_minor": 5
}
